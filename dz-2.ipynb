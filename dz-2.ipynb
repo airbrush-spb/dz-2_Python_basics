{
 "cells": [
  {
   "cell_type": "code",
   "execution_count": 2,
   "metadata": {},
   "outputs": [
    {
     "name": "stdout",
     "output_type": "stream",
     "text": [
      "identical\n"
     ]
    }
   ],
   "source": [
    "phrase_1 = 'Я обожаю учить Phyton'\n",
    "phrase_2 = 'У меня взорвался мозг'\n",
    "if len(phrase_1) > len(phrase_2):\n",
    "    print('phrase_1 is longer')\n",
    "elif len(phrase_1) == len(phrase_2):\n",
    "    print('identical')\n",
    "else:\n",
    "    print('phrase_1 is shorter')"
   ]
  },
  {
   "cell_type": "code",
   "execution_count": 3,
   "metadata": {},
   "outputs": [
    {
     "name": "stdout",
     "output_type": "stream",
     "text": [
      "2056 - високосный год\n"
     ]
    }
   ],
   "source": [
    "x = 2056\n",
    "if x % 4 == 0:\n",
    "    print(x, '- високосный год')\n",
    "else:\n",
    "    print(x, '- обычный год')"
   ]
  },
  {
   "cell_type": "code",
   "execution_count": 4,
   "metadata": {},
   "outputs": [
    {
     "name": "stdout",
     "output_type": "stream",
     "text": [
      "Дева\n"
     ]
    }
   ],
   "source": [
    "d = 24\n",
    "m = 'август'\n",
    "if 21 <= d <= 31 and m == 'март':\n",
    "    print('Овен')\n",
    "elif 1 <= d <= 19 and m == 'апрель':\n",
    "    print('Овен')\n",
    "elif 20 <= d <= 30 and m == 'апрель':\n",
    "    print('Телец')\n",
    "elif 1 <= d <= 20 and m == 'май':\n",
    "    print('Телец')\n",
    "elif 21 <= d <= 31 and m == 'май':\n",
    "    print('Близнецы')\n",
    "elif 1 <= d <= 21 and m == 'июнь':\n",
    "    print('Близнецы')\n",
    "elif 22 <= d <= 30 and m == 'июнь':\n",
    "    print('Рак')\n",
    "elif 1 <= d <= 22 and m == 'июль':\n",
    "    print('Рак')\n",
    "elif 23 <= d <= 31 and m == 'июль':\n",
    "    print('Лев')\n",
    "elif 1 <= d <= 22 and m == 'август':\n",
    "    print('Лев')\n",
    "elif 23 <= d <= 31 and m == 'август':\n",
    "    print('Дева')\n",
    "elif 1 <= d <= 22 and m == 'сентябрь':\n",
    "    print('Дева')\n",
    "elif 23 <= d <= 30 and m == 'сентябрь':\n",
    "    print('Весы')\n",
    "elif 1 <= d <= 23 and m == 'октябрь':\n",
    "    print('Весы')\n",
    "elif 24 <= d <= 31 and m == 'октябрь':\n",
    "    print('Скорпион')\n",
    "elif 1 <= d <= 22 and m == 'ноябрь':\n",
    "    print('Скорпион')\n",
    "elif 23 <= d <= 30 and m == 'ноябрь':\n",
    "    print('Стрелец')\n",
    "elif 1 <= d <= 21 and m == 'декабрь':\n",
    "    print('Стрелец')\n",
    "elif 22 <= d <= 31 and m == 'декабрь':\n",
    "    print('Козерог')\n",
    "elif 1 <= d <= 20 and m == 'январь':\n",
    "    print('Козерог')\n",
    "elif 21 <= d <= 31 and m == 'январь':\n",
    "    print('Водолей')\n",
    "elif 1 <= d <= 18 and m == 'февраль':\n",
    "    print('Водолей')\n",
    "elif 19 <= d <= 29 and m == 'февраль':\n",
    "    print('Рыбы')\n",
    "elif 1 <= d <= 20 and m == 'март':\n",
    "    print('Рыбы')\n",
    "else:\n",
    "    print('Введите данные корректно')"
   ]
  },
  {
   "cell_type": "code",
   "execution_count": 5,
   "metadata": {},
   "outputs": [
    {
     "name": "stdout",
     "output_type": "stream",
     "text": [
      "Стандартная коробка №3\n"
     ]
    }
   ],
   "source": [
    "w = 200\n",
    "l = 15\n",
    "h = 5\n",
    "if w < 15 and l < 15 and h < 15:\n",
    "    print('Коробка №1')\n",
    "elif 15 <= w <= 50 and l < 15 and h < 15:\n",
    "    print('Коробка №2')\n",
    "elif 15 <= l <= 50 and w < 15 and h < 15:\n",
    "    print('Коробка №2')\n",
    "elif 15 <= h <= 50 and l < 15 and w < 15:\n",
    "    print('Коробка №2')\n",
    "elif l > 200:\n",
    "    print('Упаковка для лыж')\n",
    "else:\n",
    "    print('Стандартная коробка №3')"
   ]
  },
  {
   "cell_type": "code",
   "execution_count": 6,
   "metadata": {},
   "outputs": [
    {
     "name": "stdout",
     "output_type": "stream",
     "text": [
      "Несчастливый билет\n"
     ]
    }
   ],
   "source": [
    "num = ['a', 'b', 'c', 'd', 'i', 'f']\n",
    "a = 5\n",
    "b = 7\n",
    "c = 4\n",
    "d = 3\n",
    "i = 8\n",
    "f = 7\n",
    "if (a + b + c) == (d + i + f):\n",
    "    print('Счастливый билет')\n",
    "else:\n",
    "    print('Несчастливый билет')"
   ]
  }
 ],
 "metadata": {
  "kernelspec": {
   "display_name": "Python 3",
   "language": "python",
   "name": "python3"
  },
  "language_info": {
   "codemirror_mode": {
    "name": "ipython",
    "version": 3
   },
   "file_extension": ".py",
   "mimetype": "text/x-python",
   "name": "python",
   "nbconvert_exporter": "python",
   "pygments_lexer": "ipython3",
   "version": "3.8.3"
  }
 },
 "nbformat": 4,
 "nbformat_minor": 4
}
