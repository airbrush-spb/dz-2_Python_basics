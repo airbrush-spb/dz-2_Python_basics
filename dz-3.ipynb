{
 "cells": [
  {
   "cell_type": "code",
   "execution_count": 32,
   "metadata": {},
   "outputs": [
    {
     "name": "stdout",
     "output_type": "stream",
     "text": [
      "f\n"
     ]
    }
   ],
   "source": [
    "word = 'electrification'\n",
    "if len(word) % 2 == 0:\n",
    "    print(word[int(len(word) / 2 - 1):int(len(word) / 2 + 1)])\n",
    "else:\n",
    "    print(word[int(len(word) // 2)])"
   ]
  },
  {
   "cell_type": "code",
   "execution_count": 166,
   "metadata": {
    "scrolled": true
   },
   "outputs": [
    {
     "name": "stdout",
     "output_type": "stream",
     "text": [
      "Введите число: 10\n",
      "Введите число: 20\n",
      "Введите число: 30\n",
      "Введите число: 0\n",
      "Результат: 60\n"
     ]
    }
   ],
   "source": [
    "sum_1 = 0\n",
    "while True:\n",
    "    text = int(input(\"Введите число: \"))\n",
    "    if text != 0:\n",
    "        sum_1 += text\n",
    "        continue\n",
    "    else:\n",
    "        print('Результат:',sum_1)\n",
    "        break"
   ]
  },
  {
   "cell_type": "code",
   "execution_count": 107,
   "metadata": {},
   "outputs": [
    {
     "name": "stdout",
     "output_type": "stream",
     "text": [
      "Идеальные пары:\n",
      "Arthur и Alexa\n",
      "Jay и Betty\n",
      "John и Ella\n",
      "Max и Kate\n",
      "Michael и Michel\n",
      "Peter и Sally\n"
     ]
    }
   ],
   "source": [
    "boys = ['Peter','Arthur','John','Max','Michael','Jay']\n",
    "girls = ['Michel','Alexa','Betty','Ella','Sally','Kate']\n",
    "\n",
    "if len(boys) == len(girls):\n",
    "    zip(sorted(boys),sorted(girls))\n",
    "    print('Идеальные пары:')\n",
    "    for b, g in zip(sorted(boys),sorted(girls)):\n",
    "        print(b,'и',g)\n",
    "else:\n",
    "    print('Внимание, кто-то может остаться без пары!')\n"
   ]
  },
  {
   "cell_type": "code",
   "execution_count": 3,
   "metadata": {},
   "outputs": [
    {
     "name": "stdout",
     "output_type": "stream",
     "text": [
      "Thailand - 74.94 C\n",
      "Germany - 56.84 C\n",
      "Russia - 38.69 C\n",
      "Poland - 53.6 C\n"
     ]
    }
   ],
   "source": [
    "countries_temperature = [\n",
    "['Thailand', [75.2, 77, 78.8, 73.4, 68, 75.2, 77]],\n",
    "['Germany', [57.2, 55.4, 59, 59, 53.6]],\n",
    "['Russia', [35.6, 37.4, 39.2, 41, 42.8, 39.2, 35.6]],\n",
    "['Poland', [50, 50, 53.6, 57.2, 55.4, 55.4]]\n",
    "]\n",
    "kol = 0\n",
    "sum_temp = 0\n",
    "m = 0\n",
    "for temp in countries_temperature:\n",
    "    kol = len(temp[1])\n",
    "    sum_temp = sum(temp[1])\n",
    "    m = sum_temp / kol\n",
    "    print(temp[0],'-',round(m,2),'C')\n"
   ]
  },
  {
   "cell_type": "code",
   "execution_count": null,
   "metadata": {},
   "outputs": [],
   "source": [
    "\n"
   ]
  },
  {
   "cell_type": "code",
   "execution_count": null,
   "metadata": {},
   "outputs": [],
   "source": []
  },
  {
   "cell_type": "code",
   "execution_count": null,
   "metadata": {},
   "outputs": [],
   "source": []
  },
  {
   "cell_type": "code",
   "execution_count": null,
   "metadata": {},
   "outputs": [],
   "source": []
  },
  {
   "cell_type": "code",
   "execution_count": null,
   "metadata": {},
   "outputs": [],
   "source": []
  }
 ],
 "metadata": {
  "kernelspec": {
   "display_name": "Python 3",
   "language": "python",
   "name": "python3"
  },
  "language_info": {
   "codemirror_mode": {
    "name": "ipython",
    "version": 3
   },
   "file_extension": ".py",
   "mimetype": "text/x-python",
   "name": "python",
   "nbconvert_exporter": "python",
   "pygments_lexer": "ipython3",
   "version": "3.8.3"
  }
 },
 "nbformat": 4,
 "nbformat_minor": 4
}
