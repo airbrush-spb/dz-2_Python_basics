{
 "cells": [
  {
   "cell_type": "code",
   "execution_count": 1,
   "metadata": {},
   "outputs": [
    {
     "name": "stdout",
     "output_type": "stream",
     "text": [
      "{98, 35, 15, 213, 54, 119}\n"
     ]
    }
   ],
   "source": [
    "ids = {'user1' : [213, 213, 213, 15, 213],\n",
    "'user2': [54, 54, 119, 119, 119],\n",
    "'user3': [213, 98, 98, 35]}\n",
    "\n",
    "ids_1 = ids.values()\n",
    "res = []\n",
    "for el in ids_1:\n",
    "    res.extend(el)\n",
    "print(set(res))\n",
    "    "
   ]
  },
  {
   "cell_type": "code",
   "execution_count": 6,
   "metadata": {},
   "outputs": [
    {
     "name": "stdout",
     "output_type": "stream",
     "text": [
      "Поисковых запросов, содержащих 3 слов: 57.14 %\n",
      "Поисковых запросов, содержащих 2 слов: 42.86 %\n"
     ]
    }
   ],
   "source": [
    "queries = [\n",
    "'смотреть сериалы онлайн',\n",
    "'новости спорта',\n",
    "'афиша кино',\n",
    "'курс доллара',\n",
    "'сериалы этим летом',\n",
    "'курс по питону',\n",
    "'сериалы про спорт',\n",
    "]\n",
    "res = {}\n",
    "for el in queries:\n",
    "    l = len(el.split())\n",
    "    if l not in res:\n",
    "        res[l] = 1\n",
    "    else:\n",
    "        res[l] += 1\n",
    "for key, l in res.items():\n",
    "    l_1 = round(((int(l)*100) / len(queries)),2)\n",
    "    print(f'Поисковых запросов, содержащих {key} слов: {l_1} %')"
   ]
  },
  {
   "cell_type": "code",
   "execution_count": 42,
   "metadata": {},
   "outputs": [
    {
     "name": "stdout",
     "output_type": "stream",
     "text": [
      "vk {'revenue': 11, 'cost': 24, 'ROI': -54.17}\n",
      "yandex {'revenue': 11, 'cost': 24, 'ROI': -54.17}\n",
      "facebook {'revenue': 11, 'cost': 24, 'ROI': -54.17}\n",
      "adwords {'revenue': 11, 'cost': 24, 'ROI': -54.17}\n",
      "twitter {'revenue': 11, 'cost': 24, 'ROI': -54.17}\n"
     ]
    }
   ],
   "source": [
    "results = {\n",
    "'vk': {'revenue': 103, 'cost': 98},\n",
    "'yandex': {'revenue': 179, 'cost': 153},\n",
    "'facebook': {'revenue': 103, 'cost': 110},\n",
    "'adwords': {'revenue': 35, 'cost': 34},\n",
    "'twitter': {'revenue': 11, 'cost': 24},\n",
    "}\n",
    "\n",
    "for k,r in results.items():\n",
    "    r = i[1]\n",
    "    r['ROI'] = round(((r['revenue'] / r['cost'] - 1) * 100),2)\n",
    "    print(k,r)"
   ]
  },
  {
   "cell_type": "code",
   "execution_count": 17,
   "metadata": {},
   "outputs": [
    {
     "name": "stdout",
     "output_type": "stream",
     "text": [
      "Результат: Максимальный объем продаж на рекламном канале: vk\n"
     ]
    }
   ],
   "source": [
    "stats = {'facebook': 55, 'yandex': 115, 'vk': 120, 'google': 99, 'email': 42, 'ok': 98}\n",
    "k = max(stats.values())\n",
    "for key,value in stats.items():\n",
    "    if value == k:\n",
    "        print(f'Результат: Максимальный объем продаж на рекламном канале: {key}')"
   ]
  }
 ],
 "metadata": {
  "kernelspec": {
   "display_name": "Python 3",
   "language": "python",
   "name": "python3"
  },
  "language_info": {
   "codemirror_mode": {
    "name": "ipython",
    "version": 3
   },
   "file_extension": ".py",
   "mimetype": "text/x-python",
   "name": "python",
   "nbconvert_exporter": "python",
   "pygments_lexer": "ipython3",
   "version": "3.8.3"
  }
 },
 "nbformat": 4,
 "nbformat_minor": 4
}
